{
  "nbformat": 4,
  "nbformat_minor": 0,
  "metadata": {
    "colab": {
      "name": "steganography-pcd.ipynb",
      "provenance": [],
      "toc_visible": true,
      "include_colab_link": true
    },
    "kernelspec": {
      "name": "python3",
      "display_name": "Python 3"
    },
    "language_info": {
      "name": "python"
    }
  },
  "cells": [
    {
      "cell_type": "markdown",
      "metadata": {
        "id": "view-in-github",
        "colab_type": "text"
      },
      "source": [
        "<a href=\"https://colab.research.google.com/github/anjelinaagusta/PengolahanCitra/blob/main/steganography_pcd.ipynb\" target=\"_parent\"><img src=\"https://colab.research.google.com/assets/colab-badge.svg\" alt=\"Open In Colab\"/></a>"
      ]
    },
    {
      "cell_type": "code",
      "execution_count": null,
      "metadata": {
        "id": "GahE0f8evaO5"
      },
      "outputs": [],
      "source": [
        "#Import Library\n",
        "# PIL module is used to extract pixels of image and modify it\n",
        "from PIL import Image"
      ]
    },
    {
      "cell_type": "code",
      "source": [
        "#membuat function untuk mengenerate data menjadi kode biner 8-bit\n",
        "def generateData(data):\n",
        "  #list kode biner dari data yang diberikan dalam bentuk array\n",
        "  newData = []\n",
        "\n",
        "  for i in data:\n",
        "    newData.append(format(ord(i), '08b'))\n",
        "    return newData"
      ],
      "metadata": {
        "id": "_ZX7x0Huvw7e"
      },
      "execution_count": null,
      "outputs": []
    },
    {
      "cell_type": "code",
      "source": [
        ""
      ],
      "metadata": {
        "id": "KyNm6aSP0uis"
      },
      "execution_count": null,
      "outputs": []
    }
  ]
}